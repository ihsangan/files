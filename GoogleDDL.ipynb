{
  "cells": [
    {
      "cell_type": "markdown",
      "metadata": {
        "id": "view-in-github",
        "colab_type": "text"
      },
      "source": [
        "<a href=\"https://colab.research.google.com/github/ihsangan/files/blob/master/GoogleDDL.ipynb\" target=\"_parent\"><img src=\"https://colab.research.google.com/assets/colab-badge.svg\" alt=\"Open In Colab\"/></a>"
      ]
    },
    {
      "cell_type": "markdown",
      "metadata": {
        "id": "1"
      },
      "source": [
        "Download file dengan ekstensi .rar dari drive, paste ID di prompt"
      ]
    },
    {
      "cell_type": "code",
      "source": [
        "!pip install--upgrade gdown
        !gdown -O file.rar 1TqyNe2I1eNshVfo-WO2gpvcx7rx77qlc"
      ],
      "metadata": {
        "id": "2"
      },
      "execution_count": null,
      "outputs": []
    },
    {
      "cell_type": "markdown",
      "source": [
        "Ekstrak file"
      ],
      "metadata": {
        "id": "3"
      }
    },
    {
      "cell_type": "code",
      "execution_count": null,
      "metadata": {
        "id": "4"
      },
      "outputs": [],
      "source": [
        "!unrar e file.rar"
      ]
    },
    {
      "cell_type": "markdown",
      "source": [
        "Download tunnel"
      ],
      "metadata": {
        "id": "5"
      }
    },
    {
      "cell_type": "code",
      "execution_count": null,
      "metadata": {
        "id": "6"
      },
      "outputs": [],
      "source": [
        "!curl -Ls https://github.com/ekzhang/bore/releases/download/v0.4.1/bore-v0.4.0-x86_64-unknown-linux-musl.tar.gz | tar zx -C /usr/bin"
      ]
    },
    {
      "cell_type": "markdown",
      "source": [
        "Jalankan web server dan copy URL tunnel [bore.pub:..]"
      ],
      "metadata": {
        "id": "7"
      }
    },
    {
      "cell_type": "code",
      "execution_count": null,
      "metadata": {
        "colab": {
          "background_save": true
        },
        "id": "8"
      },
      "outputs": [],
      "source": [
        "!python -m http.server 8 & bore local 8 --to bore.pub"
      ]
    },
    {
      "cell_type": "markdown",
      "metadata": {
        "id": "9"
      },
      "source": [
        "Buat mirror agar speed download lebih cepat dan link bertahan lebih lama https://rapidleech.hashhackers.com/"
      ]
    }
  ],
  "metadata": {
    "colab": {
      "provenance": [],
      "authorship_tag": "ABX9TyOvWMla+IkAryNQx9o7MWtM",
      "include_colab_link": true
    },
    "kernelspec": {
      "display_name": "Python 3",
      "name": "python3"
    },
    "language_info": {
      "name": "python"
    }
  },
  "nbformat": 4,
  "nbformat_minor": 0
}
